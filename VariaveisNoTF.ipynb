{
 "cells": [
  {
   "cell_type": "markdown",
   "metadata": {},
   "source": [
    "# TensorFlow 2\n",
    "## Variáveis no Tensorflow"
   ]
  },
  {
   "cell_type": "markdown",
   "metadata": {},
   "source": [
    "- Variáveis no TensorFlow são como variáveis em qualquer outra linguagem."
   ]
  },
  {
   "cell_type": "code",
   "execution_count": 1,
   "metadata": {},
   "outputs": [],
   "source": [
    "# Carregar tensorflow\n",
    "import tensorflow as tf"
   ]
  },
  {
   "cell_type": "code",
   "execution_count": 2,
   "metadata": {},
   "outputs": [
    {
     "name": "stdout",
     "output_type": "stream",
     "text": [
      "10\n"
     ]
    }
   ],
   "source": [
    "# Operação no python\n",
    "x = 8\n",
    "y = x + 2\n",
    "\n",
    "print(y)"
   ]
  },
  {
   "cell_type": "code",
   "execution_count": 3,
   "metadata": {},
   "outputs": [
    {
     "name": "stdout",
     "output_type": "stream",
     "text": [
      "<tf.Variable 'Variable:0' shape=() dtype=int32, numpy=10>\n"
     ]
    }
   ],
   "source": [
    "# Operacao no TF\n",
    "x = tf.constant(1)\n",
    "y = tf.Variable(x + 9)\n",
    "\n",
    "print(y)"
   ]
  },
  {
   "cell_type": "code",
   "execution_count": 4,
   "metadata": {},
   "outputs": [
    {
     "name": "stdout",
     "output_type": "stream",
     "text": [
      "Tensor a: <tf.Variable 'Variable:0' shape=(2, 3) dtype=int32, numpy=\n",
      "array([[1, 2, 2],\n",
      "       [3, 4, 2]], dtype=int32)>\n",
      "Rank Tensor a: tf.Tensor(2, shape=(), dtype=int32)\n",
      "\n",
      "\n",
      "Tensor b: <tf.Variable 'Variable:0' shape=(1, 3) dtype=int32, numpy=array([[5, 6, 7]], dtype=int32)>\n",
      "Rank Tensor b: tf.Tensor(2, shape=(), dtype=int32)\n",
      "\n",
      "\n",
      "Tensor_add: tf.Tensor(\n",
      "[[ 6  8  9]\n",
      " [ 8 10  9]], shape=(2, 3), dtype=int32)\n",
      "Rank Tensor_add: tf.Tensor(2, shape=(), dtype=int32)\n",
      "\n",
      "\n"
     ]
    }
   ],
   "source": [
    "# Operação de adição em tensores\n",
    "tensor_a = tf.Variable([[1, 2, 2], [3, 4, 2]], dtype = tf.int32)\n",
    "print('Tensor a:', tensor_a)\n",
    "print('Rank Tensor a:', tf.rank(tensor_a))\n",
    "print(\"\\n\")\n",
    "\n",
    "tensor_b = tf.Variable([[5, 6, 7]], dtype = tf.int32)\n",
    "print('Tensor b:', tensor_b)\n",
    "print('Rank Tensor b:', tf.rank(tensor_b))\n",
    "print(\"\\n\")\n",
    "\n",
    "tensor_add = tf.add(tensor_a, tensor_b)\n",
    "print('Tensor_add:', tensor_add)\n",
    "print('Rank Tensor_add:', tf.rank(tensor_add))\n",
    "\n",
    "print(\"\\n\")"
   ]
  },
  {
   "cell_type": "code",
   "execution_count": null,
   "metadata": {},
   "outputs": [],
   "source": []
  }
 ],
 "metadata": {
  "kernelspec": {
   "display_name": "Python 3",
   "language": "python",
   "name": "python3"
  },
  "language_info": {
   "codemirror_mode": {
    "name": "ipython",
    "version": 3
   },
   "file_extension": ".py",
   "mimetype": "text/x-python",
   "name": "python",
   "nbconvert_exporter": "python",
   "pygments_lexer": "ipython3",
   "version": "3.8.3"
  }
 },
 "nbformat": 4,
 "nbformat_minor": 4
}
