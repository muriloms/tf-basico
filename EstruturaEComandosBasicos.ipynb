{
 "cells": [
  {
   "cell_type": "markdown",
   "metadata": {},
   "source": [
    "# TensorFlow 2\n",
    "## Estrutura e comandos básicos"
   ]
  },
  {
   "cell_type": "code",
   "execution_count": 1,
   "metadata": {},
   "outputs": [],
   "source": [
    "# Carregar tensorflow\n",
    "import tensorflow as tf"
   ]
  },
  {
   "cell_type": "code",
   "execution_count": 2,
   "metadata": {},
   "outputs": [
    {
     "name": "stdout",
     "output_type": "stream",
     "text": [
      "tf.Tensor(b'Hello World', shape=(), dtype=string)\n",
      "Hello World\n"
     ]
    }
   ],
   "source": [
    "# Hello Wordl\n",
    "hello = tf.constant('Hello World')\n",
    "print(hello)\n",
    "tf.print(hello)"
   ]
  },
  {
   "cell_type": "markdown",
   "metadata": {},
   "source": [
    "- O TensorFlow armazena dados em Tensores que são semelhantes a arrays multidimensionais do numPy \n",
    "- Os dados não são armazenados como inteiros, floats ou strings de caracteres, são encapsulados em um objeto chamado de tensor. "
   ]
  },
  {
   "cell_type": "markdown",
   "metadata": {},
   "source": [
    "## Dimensões e Rank"
   ]
  },
  {
   "cell_type": "markdown",
   "metadata": {},
   "source": [
    "#### Rank\t     Math entity\n",
    "- 0\tScalar   (somente magnitude)\n",
    "- 1\tVector   (magnitude e direção)\n",
    "- 2\tMatrix   (tabela)\n",
    "- 3\t3-Tensor (cubo)\n",
    "- n\tn-Tensor (n-dimensões)"
   ]
  },
  {
   "cell_type": "code",
   "execution_count": 3,
   "metadata": {},
   "outputs": [
    {
     "name": "stdout",
     "output_type": "stream",
     "text": [
      "Rank: tf.Tensor(0, shape=(), dtype=int32)\n"
     ]
    }
   ],
   "source": [
    "# tensor 0-dimensional string - Rank 0\n",
    "hello = tf.constant('Hello World!')\n",
    "print(\"Rank:\", tf.rank(hello))"
   ]
  },
  {
   "cell_type": "code",
   "execution_count": 4,
   "metadata": {},
   "outputs": [
    {
     "name": "stdout",
     "output_type": "stream",
     "text": [
      "tf.Tensor(1234, shape=(), dtype=int32)\n",
      "Rank: tf.Tensor(0, shape=(), dtype=int32)\n"
     ]
    }
   ],
   "source": [
    "# tensor 0-dimensional int32 (escalar) - Rank 0\n",
    "t1 = tf.constant(1234)\n",
    "print(t1)\n",
    "print(\"Rank:\", tf.rank(t1))"
   ]
  },
  {
   "cell_type": "code",
   "execution_count": 5,
   "metadata": {},
   "outputs": [
    {
     "name": "stdout",
     "output_type": "stream",
     "text": [
      "tf.Tensor([123. 456. 789.], shape=(3,), dtype=float32)\n",
      "Rank: tf.Tensor(1, shape=(), dtype=int32)\n"
     ]
    }
   ],
   "source": [
    "# tensor 1-dimensional float32 - Rank 1\n",
    "t2 = tf.constant([123,456,789], dtype = tf.float32) \n",
    "print(t2)\n",
    "print(\"Rank:\", tf.rank(t2))"
   ]
  },
  {
   "cell_type": "code",
   "execution_count": 6,
   "metadata": {},
   "outputs": [
    {
     "name": "stdout",
     "output_type": "stream",
     "text": [
      "tf.Tensor(\n",
      "[[123 456 789]\n",
      " [222 333 444]], shape=(2, 3), dtype=int16)\n",
      "Rank: tf.Tensor(2, shape=(), dtype=int32)\n"
     ]
    }
   ],
   "source": [
    "# tensor 2-dimensional int16 - Rank 2\n",
    "t3 = tf.constant([ [123, 456, 789], [222, 333, 444] ], dtype = tf.int16)    \n",
    "print(t3)\n",
    "print(\"Rank:\", tf.rank(t3))"
   ]
  },
  {
   "cell_type": "code",
   "execution_count": 7,
   "metadata": {},
   "outputs": [
    {
     "name": "stdout",
     "output_type": "stream",
     "text": [
      "tf.Tensor(\n",
      "[[[1 1 1]\n",
      "  [2 2 2]]\n",
      "\n",
      " [[3 3 3]\n",
      "  [4 4 4]]], shape=(2, 2, 3), dtype=int32)\n",
      "Rank: tf.Tensor(3, shape=(), dtype=int32)\n"
     ]
    }
   ],
   "source": [
    "# tensor 3-dimensional int32 - - Rank 3\n",
    "t4 = tf.constant([[[1, 1, 1], [2, 2, 2]], [[3, 3, 3], [4, 4, 4]]])   \n",
    "print(t4)\n",
    "print(\"Rank:\", tf.rank(t4))"
   ]
  },
  {
   "cell_type": "code",
   "execution_count": null,
   "metadata": {},
   "outputs": [],
   "source": []
  }
 ],
 "metadata": {
  "kernelspec": {
   "display_name": "Python 3",
   "language": "python",
   "name": "python3"
  },
  "language_info": {
   "codemirror_mode": {
    "name": "ipython",
    "version": 3
   },
   "file_extension": ".py",
   "mimetype": "text/x-python",
   "name": "python",
   "nbconvert_exporter": "python",
   "pygments_lexer": "ipython3",
   "version": "3.8.3"
  }
 },
 "nbformat": 4,
 "nbformat_minor": 4
}
