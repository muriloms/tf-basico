{
 "cells": [
  {
   "cell_type": "markdown",
   "metadata": {},
   "source": [
    "# Números Randômicos"
   ]
  },
  {
   "cell_type": "markdown",
   "metadata": {},
   "source": [
    "Números randomicos são fundamentas para criação dos modelos de Deep Learning, sendo utilizandos principalmente no inicio da faze de aprendizado, onde são selecionados números aleatórios para inicializar os parâmetros do modelo, permitindo a alteração conforme aumento da taxa de aprendizado."
   ]
  },
  {
   "cell_type": "code",
   "execution_count": 1,
   "metadata": {},
   "outputs": [],
   "source": [
    "# Carregar pacotes\n",
    "import tensorflow as tf\n",
    "import matplotlib.pyplot as plt"
   ]
  },
  {
   "cell_type": "markdown",
   "metadata": {},
   "source": [
    "## Distribuição Normal"
   ]
  },
  {
   "cell_type": "markdown",
   "metadata": {},
   "source": [
    "Tensor de shape [100] constituído por valores aleatórios normalmente distribuídos, com média 0 e desvio padrão 1."
   ]
  },
  {
   "cell_type": "code",
   "execution_count": 2,
   "metadata": {},
   "outputs": [
    {
     "name": "stdout",
     "output_type": "stream",
     "text": [
      "(100,)\n",
      "tf.Tensor(\n",
      "[ 4.9149719e-01 -1.0975415e+00 -1.2994339e-01  9.9657094e-01\n",
      "  9.6606416e-01  5.5184186e-01  3.4908310e-01  1.1618160e+00\n",
      "  1.3184770e+00  3.3928195e-01 -1.3441169e+00  1.5615194e-01\n",
      " -8.6009008e-01 -5.2026874e-01  2.4674167e-01 -6.1505622e-01\n",
      " -1.4929881e+00 -1.5565490e+00 -4.2008007e-01 -2.7084151e-01\n",
      " -7.0676887e-01  9.9824357e-04 -1.9146739e+00 -1.7915702e+00\n",
      " -2.4478509e+00  8.1493658e-01 -4.0488097e-01 -1.8918115e+00\n",
      "  3.8934955e-01 -1.1330222e+00  1.8771259e+00  1.3780390e+00\n",
      " -2.2989933e+00 -2.6670861e+00  1.2762718e+00  9.4641313e-02\n",
      " -7.0220329e-02  9.6580619e-01  8.0559725e-01  7.8026839e-02\n",
      "  9.7706145e-01 -9.0893412e-01 -1.0044856e+00 -6.1262637e-01\n",
      " -1.9590771e-01 -3.4576173e+00  2.2502926e-01  3.1316698e-01\n",
      "  1.0857264e+00 -5.1433253e-01 -1.0737761e+00 -1.7671646e-01\n",
      "  6.2496746e-01 -8.2895495e-02  5.9016969e-02 -1.3267052e-02\n",
      " -6.4506149e-01 -1.5749729e-01 -5.3251529e-01 -3.3615184e-01\n",
      "  7.9049033e-01 -9.2285633e-01 -6.4097279e-01  1.0062137e+00\n",
      " -5.5207431e-01  1.0267401e+00  5.0633532e-01  8.8864207e-01\n",
      " -9.0892160e-01 -8.6428607e-01 -3.1577253e-01 -1.5753305e+00\n",
      " -3.5994235e-01  1.1080945e+00  1.0698054e+00  1.4790384e+00\n",
      "  8.9202851e-01  1.3564719e-01  1.7318335e+00  1.3725480e+00\n",
      "  5.3212172e-01  3.6950582e-01  3.4265924e-02 -7.5578648e-01\n",
      "  6.9891781e-01  2.1888266e+00 -1.2945290e+00  1.5903558e+00\n",
      "  2.0299037e+00 -3.6222562e-01  1.6400023e-01 -2.3243906e+00\n",
      "  7.9127789e-01 -1.5097078e+00 -1.6276171e+00 -1.1657001e+00\n",
      "  4.6573926e-02  2.3134063e-01 -4.6364081e-01  1.4513556e+00], shape=(100,), dtype=float32)\n"
     ]
    }
   ],
   "source": [
    "norm = tf.random.normal([100], mean = 0, stddev = 1)\n",
    "\n",
    "print(norm.shape)\n",
    "print(norm)"
   ]
  },
  {
   "cell_type": "code",
   "execution_count": 3,
   "metadata": {},
   "outputs": [
    {
     "data": {
      "image/png": "[encoded data removed]",
      "text/plain": [
       "<Figure size 432x288 with 1 Axes>"
      ]
     },
     "metadata": {
      "needs_background": "light"
     },
     "output_type": "display_data"
    }
   ],
   "source": [
    "plt.hist(norm)\n",
    "plt.show()"
   ]
  },
  {
   "cell_type": "markdown",
   "metadata": {},
   "source": [
    "# Distribuição Uniforme"
   ]
  },
  {
   "cell_type": "markdown",
   "metadata": {},
   "source": [
    "Tensor de shape [100] constituído por valores aleatórios,entre 0 e 1"
   ]
  },
  {
   "cell_type": "code",
   "execution_count": 4,
   "metadata": {},
   "outputs": [
    {
     "name": "stdout",
     "output_type": "stream",
     "text": [
      "(100,)\n",
      "tf.Tensor(\n",
      "[7.5837326e-01 4.5133209e-01 4.5829999e-01 5.0890446e-04 4.0499687e-02\n",
      " 3.1309402e-01 7.0846796e-01 5.0973153e-01 3.1792605e-01 9.4971657e-03\n",
      " 1.4694583e-01 6.6069746e-01 7.9505432e-01 1.8978131e-01 4.2849874e-01\n",
      " 5.7481802e-01 2.7596796e-01 4.6614921e-01 8.4673750e-01 8.7282431e-01\n",
      " 6.1490119e-01 9.1358471e-01 7.1890473e-02 5.5797422e-01 8.1505549e-01\n",
      " 1.4074945e-01 5.0227141e-01 1.5868676e-01 5.8593154e-02 3.6735344e-01\n",
      " 6.1769950e-01 5.9557950e-01 7.8819501e-01 2.0914268e-01 3.0576956e-01\n",
      " 8.7235391e-01 4.7459984e-01 6.0695672e-01 4.8444653e-01 9.9632621e-01\n",
      " 2.7135873e-01 4.2917347e-01 8.4092498e-02 1.2722683e-01 2.5394845e-01\n",
      " 5.2148330e-01 5.9324384e-02 8.4375322e-01 2.0669353e-01 3.5337412e-01\n",
      " 1.1303091e-01 6.6701162e-01 6.1745965e-01 8.1048334e-01 2.0229602e-01\n",
      " 6.3284409e-01 8.9438939e-01 6.4867592e-01 8.5266459e-01 7.8896809e-01\n",
      " 2.4921286e-01 4.8352289e-01 8.4453392e-01 6.6934979e-01 3.2411098e-02\n",
      " 1.5625453e-01 8.1537235e-01 8.2345521e-01 4.2163968e-01 3.5604560e-01\n",
      " 6.9628000e-02 3.1109488e-01 1.5649390e-01 5.8218849e-01 7.8287959e-01\n",
      " 3.0872798e-01 9.6137977e-01 3.1620717e-01 5.6341398e-01 6.4999199e-01\n",
      " 5.8333313e-01 6.0500252e-01 2.3428237e-01 3.5839283e-01 2.2874641e-01\n",
      " 7.9591465e-01 1.8635666e-01 1.5033865e-01 7.7946186e-03 8.6550963e-01\n",
      " 2.7239943e-01 5.8954477e-01 4.7874963e-01 8.8106954e-01 1.2580800e-01\n",
      " 6.6203964e-01 9.5580959e-01 2.1943355e-01 8.6989641e-01 1.7802906e-01], shape=(100,), dtype=float32)\n"
     ]
    }
   ],
   "source": [
    "uniform = tf.random.uniform([100], minval = 0, maxval = 1)\n",
    "\n",
    "print(uniform.shape)\n",
    "print(uniform)"
   ]
  },
  {
   "cell_type": "code",
   "execution_count": 5,
   "metadata": {},
   "outputs": [
    {
     "data": {
      "image/png": "[encoded data removed]",
      "text/plain": [
       "<Figure size 432x288 with 1 Axes>"
      ]
     },
     "metadata": {
      "needs_background": "light"
     },
     "output_type": "display_data"
    }
   ],
   "source": [
    "plt.hist(uniform)\n",
    "plt.show()"
   ]
  },
  {
   "cell_type": "code",
   "execution_count": null,
   "metadata": {},
   "outputs": [],
   "source": []
  }
 ],
 "metadata": {
  "kernelspec": {
   "display_name": "Python 3",
   "language": "python",
   "name": "python3"
  },
  "language_info": {
   "codemirror_mode": {
    "name": "ipython",
    "version": 3
   },
   "file_extension": ".py",
   "mimetype": "text/x-python",
   "name": "python",
   "nbconvert_exporter": "python",
   "pygments_lexer": "ipython3",
   "version": "3.8.3"
  }
 },
 "nbformat": 4,
 "nbformat_minor": 4
}
