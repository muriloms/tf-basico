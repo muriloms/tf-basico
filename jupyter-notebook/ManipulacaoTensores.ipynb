{
 "cells": [
  {
   "cell_type": "markdown",
   "metadata": {},
   "source": [
    "# TensorFlow 2\n",
    "## Manipulação de tensores"
   ]
  },
  {
   "cell_type": "code",
   "execution_count": 1,
   "metadata": {},
   "outputs": [],
   "source": [
    "# Carregar tensorflow\n",
    "import tensorflow as tf"
   ]
  },
  {
   "cell_type": "code",
   "execution_count": 2,
   "metadata": {},
   "outputs": [
    {
     "name": "stdout",
     "output_type": "stream",
     "text": [
      "Tensor preenchido com zeros como int32, 3 linhas e 4 colunas:\n",
      "[[0 0 0 0]\n",
      " [0 0 0 0]\n",
      " [0 0 0 0]]\n"
     ]
    }
   ],
   "source": [
    "# Criar tensor e preencher com zeros\n",
    "tensor = tf.zeros(shape=[3,4], dtype=tf.int32)\n",
    "print(('Tensor preenchido com zeros como int32, 3 linhas e 4 colunas:\\n{0}').format(tensor.numpy()))"
   ]
  },
  {
   "cell_type": "code",
   "execution_count": 3,
   "metadata": {},
   "outputs": [
    {
     "name": "stdout",
     "output_type": "stream",
     "text": [
      "\n",
      "Tensor preenchido com valor 1 e float32, 5 linhas e 3 colunas:\n",
      "[[1. 1. 1.]\n",
      " [1. 1. 1.]\n",
      " [1. 1. 1.]\n",
      " [1. 1. 1.]\n",
      " [1. 1. 1.]]\n"
     ]
    }
   ],
   "source": [
    "tensor = tf.ones(shape = [5, 3], dtype = tf.float32)\n",
    "print(('\\nTensor preenchido com valor 1 e float32, 5 linhas e 3 colunas:\\n{0}').format(tensor.numpy()))"
   ]
  },
  {
   "cell_type": "code",
   "execution_count": 4,
   "metadata": {},
   "outputs": [
    {
     "name": "stdout",
     "output_type": "stream",
     "text": [
      "\n",
      "Tensor preenchido com valor 100 e float64, 4 linhas e 4 colunas:\n",
      "[[100. 100. 100. 100.]\n",
      " [100. 100. 100. 100.]\n",
      " [100. 100. 100. 100.]\n",
      " [100. 100. 100. 100.]]\n"
     ]
    }
   ],
   "source": [
    "tensor = tf.constant(100, shape = [4, 4], dtype = tf.float64)\n",
    "print(('\\nTensor preenchido com valor 100 e float64, 4 linhas e 4 colunas:\\n{0}').format(tensor.numpy()))"
   ]
  },
  {
   "cell_type": "code",
   "execution_count": 5,
   "metadata": {},
   "outputs": [
    {
     "name": "stdout",
     "output_type": "stream",
     "text": [
      "<tf.Variable 'Variable:0' shape=(1, 2) dtype=float32, numpy=array([[0., 0.]], dtype=float32)>\n"
     ]
    }
   ],
   "source": [
    "tensor = tf.Variable(tf.zeros([1, 2]))\n",
    "print(tensor)"
   ]
  },
  {
   "cell_type": "code",
   "execution_count": 6,
   "metadata": {},
   "outputs": [
    {
     "name": "stdout",
     "output_type": "stream",
     "text": [
      "<tf.Variable 'Variable:0' shape=(1, 2) dtype=float32, numpy=array([[100., 200.]], dtype=float32)>\n"
     ]
    }
   ],
   "source": [
    "# atribuir valores ao tensor criado na celula anterior\n",
    "tensor.assign_add([[100, 200]])\n",
    "print(tensor)"
   ]
  },
  {
   "cell_type": "markdown",
   "metadata": {},
   "source": [
    "# Reshape"
   ]
  },
  {
   "cell_type": "code",
   "execution_count": 8,
   "metadata": {},
   "outputs": [
    {
     "name": "stdout",
     "output_type": "stream",
     "text": [
      "\n",
      "Shape do Tensor Original: (4, 2)\n",
      "\n",
      "Rank do Tensor Original: tf.Tensor(2, shape=(), dtype=int32)\n",
      "[[3 2]\n",
      " [5 2]\n",
      " [9 5]\n",
      " [1 3]]\n"
     ]
    }
   ],
   "source": [
    "tensor = tf.constant([[3, 2],\n",
    "                      [5, 2],\n",
    "                      [9, 5],\n",
    "                      [1, 3]])\n",
    "\n",
    "print('\\nShape do Tensor Original:', tensor.shape)\n",
    "print('\\nRank do Tensor Original:', tf.rank(tensor))\n",
    "print(tensor.numpy())"
   ]
  },
  {
   "cell_type": "code",
   "execution_count": 9,
   "metadata": {},
   "outputs": [],
   "source": [
    "# Remodelando o tensor em uma forma de: shape = [linhas, colunas]\n",
    "tensor_reshaped = tf.reshape(tensor = tensor, shape = [1, 8])"
   ]
  },
  {
   "cell_type": "code",
   "execution_count": 10,
   "metadata": {},
   "outputs": [
    {
     "name": "stdout",
     "output_type": "stream",
     "text": [
      "\n",
      "Tensor antes do reshape:\n",
      " [[3 2]\n",
      " [5 2]\n",
      " [9 5]\n",
      " [1 3]]\n",
      "\n",
      "Tensor depois do reshape:\n",
      "[[3 2 5 2 9 5 1 3]]\n",
      "\n",
      "Shape do Novo Tensor: (1, 8)\n",
      "\n",
      "Rank do Novo Tensor: tf.Tensor(2, shape=(), dtype=int32)\n"
     ]
    }
   ],
   "source": [
    "tf.print('\\nTensor antes do reshape:\\n', tensor)\n",
    "\n",
    "print(('\\nTensor depois do reshape:\\n{0}').format(tensor_reshaped.numpy()))\n",
    "\n",
    "print('\\nShape do Novo Tensor:', tensor_reshaped.shape)\n",
    "\n",
    "print('\\nRank do Novo Tensor:', tf.rank(tensor_reshaped))"
   ]
  },
  {
   "cell_type": "markdown",
   "metadata": {},
   "source": [
    "# Conversão de dados"
   ]
  },
  {
   "cell_type": "code",
   "execution_count": 11,
   "metadata": {},
   "outputs": [],
   "source": [
    "tensor = tf.constant([[3.1, 2.8],\n",
    "                      [5.2, 2.3],\n",
    "                      [9.7, 5.5],\n",
    "                      [1.1, 3.4]], \n",
    "                      dtype = tf.float32)"
   ]
  },
  {
   "cell_type": "code",
   "execution_count": 12,
   "metadata": {},
   "outputs": [],
   "source": [
    "# Convertendo o tensor de float32 para int32\n",
    "tensor_de_inteiros = tf.cast(tensor, tf.int32)\n",
    "\n",
    "# Arredonda os elementos do tensor\n",
    "tensor_arredondado = tf.math.round(tensor)"
   ]
  },
  {
   "cell_type": "code",
   "execution_count": 13,
   "metadata": {},
   "outputs": [
    {
     "name": "stdout",
     "output_type": "stream",
     "text": [
      "\n",
      "Tensor com floats:\n",
      " [[3.1 2.8]\n",
      " [5.2 2.3]\n",
      " [9.7 5.5]\n",
      " [1.1 3.4]]\n",
      "\n",
      "Tipo de Dado do Tensor:\n",
      " tf.float32\n",
      "\n",
      "Tensor cast de float para int (apenas remove o decimal, não faz arredondamento):\n",
      " [[3 2]\n",
      " [5 2]\n",
      " [9 5]\n",
      " [1 3]]\n",
      "\n",
      "Tipo de Dado do Tensor:\n",
      " tf.int32\n",
      "\n",
      "Tensor com arrendodamento:\n",
      " [[3 3]\n",
      " [5 2]\n",
      " [10 6]\n",
      " [1 3]]\n",
      "\n",
      "Tipo de Dado do Tensor:\n",
      " tf.float32\n"
     ]
    }
   ],
   "source": [
    "tf.print('\\nTensor com floats:\\n', tensor)\n",
    "tf.print('\\nTipo de Dado do Tensor:\\n', tensor.dtype)\n",
    "\n",
    "tf.print('\\nTensor cast de float para int (apenas remove o decimal, não faz arredondamento):\\n', tensor_de_inteiros)\n",
    "tf.print('\\nTipo de Dado do Tensor:\\n', tensor_de_inteiros.dtype)\n",
    "\n",
    "tf.print('\\nTensor com arrendodamento:\\n', tensor_arredondado)\n",
    "tf.print('\\nTipo de Dado do Tensor:\\n', tensor_arredondado.dtype)"
   ]
  },
  {
   "cell_type": "code",
   "execution_count": null,
   "metadata": {},
   "outputs": [],
   "source": []
  }
 ],
 "metadata": {
  "kernelspec": {
   "display_name": "Python 3",
   "language": "python",
   "name": "python3"
  },
  "language_info": {
   "codemirror_mode": {
    "name": "ipython",
    "version": 3
   },
   "file_extension": ".py",
   "mimetype": "text/x-python",
   "name": "python",
   "nbconvert_exporter": "python",
   "pygments_lexer": "ipython3",
   "version": "3.8.3"
  }
 },
 "nbformat": 4,
 "nbformat_minor": 4
}
