{
 "cells": [
  {
   "cell_type": "markdown",
   "metadata": {},
   "source": [
    "# Prever Chances de Admissão no Mestrado com Regressão Linear"
   ]
  },
  {
   "cell_type": "markdown",
   "metadata": {},
   "source": [
    "Criar um modelo de regressão linear capaz de prever as chances de admissão de um aluno em uma universidade, dadas algumas características.\n",
    "\n",
    "Dataset: https://www.apb.ucla.edu/campus-statistics/common-data-set\n",
    "\n",
    "#### Descrição:\n",
    " O conjunto de dados contém vários parâmetros que são considerados importantes durante a inscrição nos Programas de Mestrado. \n",
    "\n",
    "- Pontuações GRE (GRE Score até 340) \n",
    "- Pontuações do TOEFL (TOEFL Score até 120) \n",
    "- Classificação da universidade (University Rating até 5) \n",
    "- Declaração de objetivo (SOP até 5) \n",
    "- Força da carta de recomendação (LOR até 5) \n",
    "- Graduação GPA (CGPA até 10) \n",
    "- Experiência em pesquisa (Research 0 ou 1) \n",
    "- Chance de admissão (Chance of Admit variando de 0 a 1) - variável alvo"
   ]
  },
  {
   "cell_type": "code",
   "execution_count": 16,
   "metadata": {},
   "outputs": [],
   "source": [
    "# Carregar pacotes\n",
    "import numpy as np\n",
    "import pandas as pd\n",
    "import tensorflow as tf\n",
    "\n",
    "from sklearn.model_selection import train_test_split\n",
    "\n",
    "import matplotlib.pyplot as plt"
   ]
  },
  {
   "cell_type": "code",
   "execution_count": 2,
   "metadata": {},
   "outputs": [],
   "source": [
    "data = pd.read_csv('dataset.csv')"
   ]
  },
  {
   "cell_type": "code",
   "execution_count": 3,
   "metadata": {},
   "outputs": [
    {
     "data": {
      "text/html": [
       "<div>\n",
       "<style scoped>\n",
       "    .dataframe tbody tr th:only-of-type {\n",
       "        vertical-align: middle;\n",
       "    }\n",
       "\n",
       "    .dataframe tbody tr th {\n",
       "        vertical-align: top;\n",
       "    }\n",
       "\n",
       "    .dataframe thead th {\n",
       "        text-align: right;\n",
       "    }\n",
       "</style>\n",
       "<table border=\"1\" class=\"dataframe\">\n",
       "  <thead>\n",
       "    <tr style=\"text-align: right;\">\n",
       "      <th></th>\n",
       "      <th>Serial No.</th>\n",
       "      <th>GRE Score</th>\n",
       "      <th>TOEFL Score</th>\n",
       "      <th>University Rating</th>\n",
       "      <th>SOP</th>\n",
       "      <th>LOR</th>\n",
       "      <th>CGPA</th>\n",
       "      <th>Research</th>\n",
       "      <th>Chance of Admit</th>\n",
       "    </tr>\n",
       "  </thead>\n",
       "  <tbody>\n",
       "    <tr>\n",
       "      <th>0</th>\n",
       "      <td>1</td>\n",
       "      <td>337</td>\n",
       "      <td>118</td>\n",
       "      <td>4</td>\n",
       "      <td>4.5</td>\n",
       "      <td>4.5</td>\n",
       "      <td>9.65</td>\n",
       "      <td>1</td>\n",
       "      <td>0.92</td>\n",
       "    </tr>\n",
       "    <tr>\n",
       "      <th>1</th>\n",
       "      <td>2</td>\n",
       "      <td>324</td>\n",
       "      <td>107</td>\n",
       "      <td>4</td>\n",
       "      <td>4.0</td>\n",
       "      <td>4.5</td>\n",
       "      <td>8.87</td>\n",
       "      <td>1</td>\n",
       "      <td>0.76</td>\n",
       "    </tr>\n",
       "    <tr>\n",
       "      <th>2</th>\n",
       "      <td>3</td>\n",
       "      <td>316</td>\n",
       "      <td>104</td>\n",
       "      <td>3</td>\n",
       "      <td>3.0</td>\n",
       "      <td>3.5</td>\n",
       "      <td>8.00</td>\n",
       "      <td>1</td>\n",
       "      <td>0.72</td>\n",
       "    </tr>\n",
       "    <tr>\n",
       "      <th>3</th>\n",
       "      <td>4</td>\n",
       "      <td>322</td>\n",
       "      <td>110</td>\n",
       "      <td>3</td>\n",
       "      <td>3.5</td>\n",
       "      <td>2.5</td>\n",
       "      <td>8.67</td>\n",
       "      <td>1</td>\n",
       "      <td>0.80</td>\n",
       "    </tr>\n",
       "    <tr>\n",
       "      <th>4</th>\n",
       "      <td>5</td>\n",
       "      <td>314</td>\n",
       "      <td>103</td>\n",
       "      <td>2</td>\n",
       "      <td>2.0</td>\n",
       "      <td>3.0</td>\n",
       "      <td>8.21</td>\n",
       "      <td>0</td>\n",
       "      <td>0.65</td>\n",
       "    </tr>\n",
       "  </tbody>\n",
       "</table>\n",
       "</div>"
      ],
      "text/plain": [
       "   Serial No.  GRE Score  TOEFL Score  University Rating  SOP  LOR  CGPA  \\\n",
       "0           1        337          118                  4  4.5  4.5  9.65   \n",
       "1           2        324          107                  4  4.0  4.5  8.87   \n",
       "2           3        316          104                  3  3.0  3.5  8.00   \n",
       "3           4        322          110                  3  3.5  2.5  8.67   \n",
       "4           5        314          103                  2  2.0  3.0  8.21   \n",
       "\n",
       "   Research  Chance of Admit  \n",
       "0         1             0.92  \n",
       "1         1             0.76  \n",
       "2         1             0.72  \n",
       "3         1             0.80  \n",
       "4         0             0.65  "
      ]
     },
     "execution_count": 3,
     "metadata": {},
     "output_type": "execute_result"
    }
   ],
   "source": [
    "data.head()"
   ]
  },
  {
   "cell_type": "code",
   "execution_count": 4,
   "metadata": {},
   "outputs": [],
   "source": [
    "# Separando variáveis numéricas e categóricas\n",
    "\n",
    "# Normalizando as variáveis numércas\n",
    "continuous_features = data[ ['GRE Score','TOEFL Score','University Rating','SOP','LOR','CGPA'] ].values / 100 \n",
    "\n",
    "# Coletando a variável categórica\n",
    "categorical_research_features = data[ [ 'Research' ] ].values "
   ]
  },
  {
   "cell_type": "code",
   "execution_count": 5,
   "metadata": {},
   "outputs": [],
   "source": [
    "# Concatenando as variáveis de entrada em X\n",
    "X = np.concatenate( [ continuous_features , categorical_research_features ] , axis=1 )\n",
    "\n",
    "# Variável resposta em Y\n",
    "Y = data[ [ 'Chance of Admit' ] ].values"
   ]
  },
  {
   "cell_type": "code",
   "execution_count": 6,
   "metadata": {},
   "outputs": [],
   "source": [
    "# Separando os dados em treino e teste\n",
    "train_features, test_features, train_labels, test_labels = train_test_split( X , Y , test_size=0.2 )"
   ]
  },
  {
   "cell_type": "code",
   "execution_count": 7,
   "metadata": {},
   "outputs": [],
   "source": [
    "# Convertendo os dados de treino e teste em tensores constantes e armazenando em X e Y\n",
    "\n",
    "# treino\n",
    "X_treino = tf.constant( train_features , dtype=tf.float32 )\n",
    "Y_treino = tf.constant( train_labels , dtype=tf.float32 ) \n",
    "                  \n",
    "# teste\n",
    "X_teste = tf.constant( test_features , dtype=tf.float32 ) \n",
    "Y_teste = tf.constant( test_labels , dtype=tf.float32 ) "
   ]
  },
  {
   "cell_type": "markdown",
   "metadata": {},
   "source": [
    "## Funções para  modelo"
   ]
  },
  {
   "cell_type": "code",
   "execution_count": 8,
   "metadata": {},
   "outputs": [],
   "source": [
    "# Função para calcular o erro quadrado médio\n",
    "def mean_squared_error( Y , y_pred ):\n",
    "    return tf.reduce_mean( tf.square( y_pred - Y ) )"
   ]
  },
  {
   "cell_type": "code",
   "execution_count": 9,
   "metadata": {},
   "outputs": [],
   "source": [
    "# Função para calcular a derivada do erro\n",
    "def mean_squared_error_deriv( Y , y_pred ):\n",
    "    return tf.reshape( tf.reduce_mean( 2 * ( y_pred - Y ) ) , [ 1 , 1 ] )"
   ]
  },
  {
   "cell_type": "code",
   "execution_count": 10,
   "metadata": {},
   "outputs": [],
   "source": [
    "# Função para calcular a hipótese (aproximação da função alvo)\n",
    "def h ( X , weights , bias ):\n",
    "    return tf.tensordot( X , weights , axes=1 ) + bias"
   ]
  },
  {
   "cell_type": "markdown",
   "metadata": {},
   "source": [
    "## Inicializar hiperparâmetros"
   ]
  },
  {
   "cell_type": "code",
   "execution_count": 26,
   "metadata": {},
   "outputs": [],
   "source": [
    "num_epochs = 10\n",
    "num_samples = X_treino.shape[0]\n",
    "batch_size = 20\n",
    "learning_rate = 0.001\n",
    "\n",
    "num_features = X_treino.shape[1]"
   ]
  },
  {
   "cell_type": "code",
   "execution_count": 27,
   "metadata": {},
   "outputs": [],
   "source": [
    "# Inicializando os pesos com valores aleartórios\n",
    "weights = tf.random.normal( ( num_features , 1 ) ) \n",
    "bias = 0\n",
    "\n",
    "epochs_plot = list()\n",
    "loss_plot = list()"
   ]
  },
  {
   "cell_type": "code",
   "execution_count": 28,
   "metadata": {},
   "outputs": [],
   "source": [
    "# Coletando amostras dos dados para o treinamento e criando um iterador\n",
    "dataset = tf.data.Dataset.from_tensor_slices(( X_treino , Y_treino )) \n",
    "dataset = dataset.shuffle( 500 ).repeat( num_epochs ).batch( batch_size )\n",
    "iterator = dataset.__iter__()"
   ]
  },
  {
   "cell_type": "code",
   "execution_count": 29,
   "metadata": {},
   "outputs": [
    {
     "name": "stdout",
     "output_type": "stream",
     "text": [
      "\n",
      "Iniciando o Treinamento:\n",
      "A taxa de erro é igual a 5.261605262756348\n",
      "A taxa de erro é igual a 3.668856382369995\n",
      "A taxa de erro é igual a 2.569296360015869\n",
      "A taxa de erro é igual a 1.809973120689392\n",
      "A taxa de erro é igual a 1.285439133644104\n",
      "A taxa de erro é igual a 0.9242965579032898\n",
      "A taxa de erro é igual a 0.6758390665054321\n",
      "A taxa de erro é igual a 0.5049729943275452\n",
      "A taxa de erro é igual a 0.3880172669887543\n",
      "A taxa de erro é igual a 0.3078174889087677\n"
     ]
    }
   ],
   "source": [
    "## Construir o modelo\n",
    "print('\\nIniciando o Treinamento:')\n",
    "\n",
    "# Loop para o treinamento\n",
    "for i in range( num_epochs ) :\n",
    "    \n",
    "    epoch_loss = list()\n",
    "\n",
    "    for b in range( int(num_samples/batch_size) ):\n",
    "\n",
    "        x_batch , y_batch = iterator.get_next()\n",
    "   \n",
    "        output = h( x_batch , weights , bias ) \n",
    "        loss = epoch_loss.append( mean_squared_error( y_batch , output ).numpy() )\n",
    "    \n",
    "        dJ_dH = mean_squared_error_deriv( y_batch , output )\n",
    "        dH_dW = x_batch\n",
    "        dJ_dW = tf.reduce_mean( dJ_dH * dH_dW )\n",
    "        dJ_dB = tf.reduce_mean( dJ_dH )\n",
    "    \n",
    "        weights -= ( learning_rate * dJ_dW )\n",
    "        bias -= ( learning_rate * dJ_dB ) \n",
    "        \n",
    "    loss = np.array( epoch_loss ).mean()\n",
    "    epochs_plot.append( i + 1 )\n",
    "    loss_plot.append( loss ) \n",
    "\n",
    "    \n",
    "    print( 'A taxa de erro é igual a {}'.format( loss ) ) "
   ]
  },
  {
   "cell_type": "code",
   "execution_count": 30,
   "metadata": {},
   "outputs": [
    {
     "data": {
      "image/png": "[encoded data removed]",
      "text/plain": [
       "<Figure size 432x288 with 1 Axes>"
      ]
     },
     "metadata": {
      "needs_background": "light"
     },
     "output_type": "display_data"
    }
   ],
   "source": [
    "# Plot do resultado do treino\n",
    "plt.plot( epochs_plot , loss_plot ) \n",
    "plt.show()"
   ]
  },
  {
   "cell_type": "code",
   "execution_count": 31,
   "metadata": {},
   "outputs": [],
   "source": [
    "# Gera previsões com os dados de teste\n",
    "output = h( X_teste , weights , bias ) \n",
    "labels = Y_teste"
   ]
  },
  {
   "cell_type": "code",
   "execution_count": 32,
   "metadata": {},
   "outputs": [
    {
     "name": "stdout",
     "output_type": "stream",
     "text": [
      "\n",
      "Mean Absolute Error (MAE) = 0.4232807159423828\n",
      "\n",
      "\n"
     ]
    }
   ],
   "source": [
    "# Calcula a acurácia\n",
    "accuracy_op = tf.metrics.MeanAbsoluteError() \n",
    "accuracy_op.update_state( labels , output )\n",
    "print( '\\nMean Absolute Error (MAE) = {}'.format( accuracy_op.result().numpy() ) )\n",
    "print('\\n')"
   ]
  },
  {
   "cell_type": "code",
   "execution_count": 33,
   "metadata": {},
   "outputs": [
    {
     "name": "stdout",
     "output_type": "stream",
     "text": [
      "\n",
      "Um estudante com as características abaixo:\n",
      "[3.07 1.05 0.02 ... 0.045 0.0812 1]\n",
      "\n",
      "Teria o seguinte percentual de ser admitido na Universidade:\n",
      "[67]\n",
      "\n",
      "\n"
     ]
    }
   ],
   "source": [
    "print('\\nUm estudante com as características abaixo:')\n",
    "tf.print(X_teste[0,:])\n",
    "print('\\nTeria o seguinte percentual de ser admitido na Universidade:')\n",
    "tf.print(Y_teste[0] * 100)\n",
    "print('\\n')"
   ]
  },
  {
   "cell_type": "code",
   "execution_count": null,
   "metadata": {},
   "outputs": [],
   "source": []
  }
 ],
 "metadata": {
  "kernelspec": {
   "display_name": "Python 3",
   "language": "python",
   "name": "python3"
  },
  "language_info": {
   "codemirror_mode": {
    "name": "ipython",
    "version": 3
   },
   "file_extension": ".py",
   "mimetype": "text/x-python",
   "name": "python",
   "nbconvert_exporter": "python",
   "pygments_lexer": "ipython3",
   "version": "3.8.3"
  }
 },
 "nbformat": 4,
 "nbformat_minor": 4
}
