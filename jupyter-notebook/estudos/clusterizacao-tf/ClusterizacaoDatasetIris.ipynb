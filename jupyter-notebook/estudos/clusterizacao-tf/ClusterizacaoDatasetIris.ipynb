{
 "cells": [
  {
   "cell_type": "markdown",
   "metadata": {},
   "source": [
    "# Clusterização do Dataset IRIS com K-means e TensorFlow"
   ]
  },
  {
   "cell_type": "markdown",
   "metadata": {},
   "source": [
    "*TF não é o melhor framework para esse tipo de clusterizacao, seria como matar uma formiga com uma bazuca. O objetivo desse arquivo é desenvolver um exercício de clustarização com K-means no TensorFlow*"
   ]
  },
  {
   "cell_type": "markdown",
   "metadata": {},
   "source": [
    "*Até a construção dos códigos (mar/2020) não havia sido implementado o algoritmo K-means no tf 2.x*\n",
    "*Dessa forma, é utilizado tf 2.x com funções adaptadas do tf 1.x*"
   ]
  },
  {
   "cell_type": "code",
   "execution_count": 1,
   "metadata": {},
   "outputs": [],
   "source": [
    "# Carregar pacotes\n",
    "import numpy as np\n",
    "import matplotlib.pyplot as plt\n",
    "import tensorflow as tf\n",
    "from sklearn import datasets\n",
    "from scipy.spatial import cKDTree\n",
    "from sklearn.decomposition import PCA\n",
    "from sklearn.preprocessing import scale\n",
    "\n",
    "from tensorflow.python.framework import ops\n",
    "ops.reset_default_graph()"
   ]
  },
  {
   "cell_type": "code",
   "execution_count": 2,
   "metadata": {},
   "outputs": [],
   "source": [
    "# Essa linha de código desabilita o Eager Execution e permite a inicialização de variáveis na sessão, recurso do TF 1.x\n",
    "tf.compat.v1.disable_eager_execution()\n",
    "\n",
    "# Sessão\n",
    "sess = tf.compat.v1.Session()"
   ]
  },
  {
   "cell_type": "code",
   "execution_count": 3,
   "metadata": {},
   "outputs": [],
   "source": [
    "# Carregar o dataset\n",
    "iris = datasets.load_iris()"
   ]
  },
  {
   "cell_type": "code",
   "execution_count": 4,
   "metadata": {},
   "outputs": [],
   "source": [
    "# Definir caracteristicas dos dados\n",
    "num_pts = len(iris.data)\n",
    "num_feats = len(iris.data[0])"
   ]
  },
  {
   "cell_type": "code",
   "execution_count": 5,
   "metadata": {},
   "outputs": [],
   "source": [
    "# Parâmetros do K-means\n",
    "k = 3 # existem 3 tipos de flores no dataset\n",
    "generations = 30"
   ]
  },
  {
   "cell_type": "code",
   "execution_count": 6,
   "metadata": {},
   "outputs": [
    {
     "name": "stdout",
     "output_type": "stream",
     "text": [
      "WARNING:tensorflow:From /home/murilo/anaconda3/envs/tf/lib/python3.8/site-packages/tensorflow/python/ops/resource_variable_ops.py:1659: calling BaseResourceVariable.__init__ (from tensorflow.python.ops.resource_variable_ops) with constraint is deprecated and will be removed in a future version.\n",
      "Instructions for updating:\n",
      "If using Keras pass *_constraint arguments to layers.\n"
     ]
    }
   ],
   "source": [
    "# Variáveis (seerão carregadas quando executarmos a sessão) - caracteristica do tf 1.x\n",
    "data_points = tf.Variable(iris.data)\n",
    "cluster_labels = tf.Variable(tf.zeros([num_pts], dtype = tf.int64))"
   ]
  },
  {
   "cell_type": "code",
   "execution_count": 7,
   "metadata": {},
   "outputs": [],
   "source": [
    "# Escolher randomicamente os pontos de dados e os centróides\n",
    "rand_starts = np.array([iris.data[np.random.choice(len(iris.data))] for _ in range(k)])\n",
    "centroids = tf.Variable(rand_starts)"
   ]
  },
  {
   "cell_type": "code",
   "execution_count": 8,
   "metadata": {},
   "outputs": [],
   "source": [
    "# Calcular as distâncias entre cada um dos pontos de dados e cada um dos centróides\n",
    "centroid_matrix = tf.reshape(tf.tile(centroids, [num_pts, 1]), [num_pts, k, num_feats])"
   ]
  },
  {
   "cell_type": "code",
   "execution_count": 9,
   "metadata": {},
   "outputs": [],
   "source": [
    "# Remodelar os pontos de dados em 3 (k) repetições\n",
    "point_matrix = tf.reshape(tf.tile(data_points, [1, k]), [num_pts, k, num_feats])\n",
    "distances = tf.reduce_sum(input_tensor = tf.square(point_matrix - centroid_matrix), axis = 2)"
   ]
  },
  {
   "cell_type": "code",
   "execution_count": 10,
   "metadata": {},
   "outputs": [],
   "source": [
    "# Centróide mais próximo - menor distância - para cara ponto de dados\n",
    "centroid_group = tf.argmin(input=distances, axis=1)"
   ]
  },
  {
   "cell_type": "code",
   "execution_count": 11,
   "metadata": {},
   "outputs": [],
   "source": [
    "# Definir função que encontra a média do grupo para obter um novo centróide (aumentar precisão)\n",
    "def data_group_avg(group_ids, data):\n",
    "    # Soma cada grupo\n",
    "    sum_total = tf.math.unsorted_segment_sum(data, group_ids, 3)\n",
    "    # Conta cada grupo\n",
    "    num_total = tf.math.unsorted_segment_sum(tf.ones_like(data), group_ids, 3)\n",
    "    # Calcula a média\n",
    "    avg_by_group = sum_total/num_total\n",
    "    return(avg_by_group)"
   ]
  },
  {
   "cell_type": "code",
   "execution_count": 12,
   "metadata": {},
   "outputs": [],
   "source": [
    "# Média\n",
    "means = data_group_avg(centroid_group, data_points)\n",
    "\n",
    "# Atualiza os centóides\n",
    "update = tf.group(centroids.assign(means), cluster_labels.assign(centroid_group))\n",
    "\n",
    "# Inicializa as variáveis\n",
    "init = tf.compat.v1.global_variables_initializer()"
   ]
  },
  {
   "cell_type": "code",
   "execution_count": 13,
   "metadata": {},
   "outputs": [],
   "source": [
    "# Executa a sessãos\n",
    "sess.run(init)"
   ]
  },
  {
   "cell_type": "code",
   "execution_count": 14,
   "metadata": {},
   "outputs": [],
   "source": [
    "# Criar o modelo\n",
    "for i in range(generations):\n",
    "    _, centroid_group_count = sess.run([update, centroid_group])\n",
    "    group_count = []\n",
    "    for ix in range(k):\n",
    "        group_count.append(np.sum(centroid_group_count==ix))\n",
    "    \n",
    "\n",
    "[centers, assignments] = sess.run([centroids, cluster_labels])"
   ]
  },
  {
   "cell_type": "code",
   "execution_count": 15,
   "metadata": {},
   "outputs": [],
   "source": [
    "# Definir função para encontrar elemento mais comum \n",
    "def most_common(my_list):\n",
    "    return(max(set(my_list), key = my_list.count))"
   ]
  },
  {
   "cell_type": "code",
   "execution_count": 16,
   "metadata": {},
   "outputs": [
    {
     "name": "stdout",
     "output_type": "stream",
     "text": [
      "Acurácia: 0.89\n"
     ]
    }
   ],
   "source": [
    "# Encontrar quais atribuições de grupo correspondem a quais rótulos de grupo\n",
    "label0 = most_common(list(assignments[0:50]))\n",
    "label1 = most_common(list(assignments[50:100]))\n",
    "label2 = most_common(list(assignments[100:150]))\n",
    "\n",
    "group0_count = np.sum(assignments[0:50]==label0)\n",
    "group1_count = np.sum(assignments[50:100]==label1)\n",
    "group2_count = np.sum(assignments[100:150]==label2)\n",
    "\n",
    "accuracy = (group0_count + group1_count + group2_count)/150.\n",
    "\n",
    "print('Acurácia: {:.2}'.format(accuracy))"
   ]
  },
  {
   "cell_type": "markdown",
   "metadata": {},
   "source": [
    "# Visualização do Modelo"
   ]
  },
  {
   "cell_type": "code",
   "execution_count": 17,
   "metadata": {},
   "outputs": [],
   "source": [
    "# Transformar 4 dimensoes em 2 com técnica PCA\n",
    "pca_model = PCA(n_components = 2)\n",
    "reduced_data = pca_model.fit_transform(iris.data)\n",
    "\n",
    "# Transformar centros\n",
    "reduced_centers = pca_model.transform(centers)"
   ]
  },
  {
   "cell_type": "code",
   "execution_count": 19,
   "metadata": {},
   "outputs": [
    {
     "data": {
      "image/png": "[encoded data removed]",
      "text/plain": [
       "<Figure size 432x288 with 1 Axes>"
      ]
     },
     "metadata": {
      "needs_background": "light"
     },
     "output_type": "display_data"
    }
   ],
   "source": [
    "# Plot\n",
    "\n",
    "# Step size do mesh plotting\n",
    "h = .02\n",
    "\n",
    "# Traçar o limite de decisão. Para isso, atribuiremos uma cor a cada k.\n",
    "x_min, x_max = reduced_data[:, 0].min() - 1, reduced_data[:, 0].max() + 1\n",
    "y_min, y_max = reduced_data[:, 1].min() - 1, reduced_data[:, 1].max() + 1\n",
    "xx, yy = np.meshgrid(np.arange(x_min, x_max, h), np.arange(y_min, y_max, h))\n",
    "\n",
    "# Obter k-means classificações para os pontos de grade\n",
    "xx_pt = list(xx.ravel())\n",
    "yy_pt = list(yy.ravel())\n",
    "xy_pts = np.array([[x,y] for x,y in zip(xx_pt, yy_pt)])\n",
    "mytree = cKDTree(reduced_centers)\n",
    "dist, indexes = mytree.query(xy_pts)\n",
    "\n",
    "# Coloque o resultado em um gráfico de cores\n",
    "indexes = indexes.reshape(xx.shape)\n",
    "plt.figure(1)\n",
    "plt.clf()\n",
    "plt.imshow(indexes, interpolation = 'nearest', extent = (xx.min(), xx.max(), yy.min(), yy.max()), cmap = plt.cm.Paired, aspect = 'auto', origin = 'lower')\n",
    "\n",
    "# Traçar cada um dos grupos de dados da íris verdadeira\n",
    "symbols = ['o', '^', '*']\n",
    "label_name = ['Setosa', 'Versicolour', 'Virginica']\n",
    "for i in range(3):\n",
    "    temp_group = reduced_data[(i*50):(50)*(i+1)]\n",
    "    plt.plot(temp_group[:, 0], temp_group[:, 1], symbols[i], markersize = 10, label = label_name[i])\n",
    "\n",
    "# Traçar os centróides como um X branco\n",
    "plt.scatter(reduced_centers[:, 0], reduced_centers[:, 1], marker = 'x', s = 169, linewidths = 3, color = 'w', zorder = 10)\n",
    "plt.title('Clustering K-means no Dataset Iris')\n",
    "plt.xlim(x_min, x_max)\n",
    "plt.ylim(y_min, y_max)\n",
    "plt.legend(loc = 'lower right')\n",
    "plt.show()"
   ]
  },
  {
   "cell_type": "code",
   "execution_count": null,
   "metadata": {},
   "outputs": [],
   "source": []
  }
 ],
 "metadata": {
  "kernelspec": {
   "display_name": "Python 3",
   "language": "python",
   "name": "python3"
  },
  "language_info": {
   "codemirror_mode": {
    "name": "ipython",
    "version": 3
   },
   "file_extension": ".py",
   "mimetype": "text/x-python",
   "name": "python",
   "nbconvert_exporter": "python",
   "pygments_lexer": "ipython3",
   "version": "3.8.3"
  }
 },
 "nbformat": 4,
 "nbformat_minor": 4
}
