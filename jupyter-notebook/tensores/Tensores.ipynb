{
 "cells": [
  {
   "cell_type": "markdown",
   "metadata": {},
   "source": [
    "# Tensores"
   ]
  },
  {
   "cell_type": "markdown",
   "metadata": {},
   "source": [
    "- Tensores são as estruturas de dados básicas no TensorFlow. \n",
    "- Identifica uma matriz ou lista multidimensional.\n",
    "\n",
    "- Identificado por três parâmetros, rank, shape e type: \n",
    "\n",
    "    - rank: Cada tensor é descrito por uma unidade de dimensionalidade chamada rank, que identifica o número de dimensões do tensor. \n",
    "    - Shape: A forma de um tensor é o número de linhas e colunas que ele possui. \n",
    "\n",
    "    - Type: É o tipo de dados atribuído aos elementos do tensor."
   ]
  },
  {
   "cell_type": "code",
   "execution_count": 1,
   "metadata": {},
   "outputs": [],
   "source": [
    "# Carregar pacotes\n",
    "import numpy as np\n",
    "import tensorflow as tf"
   ]
  },
  {
   "cell_type": "markdown",
   "metadata": {},
   "source": [
    "## Unidimensionais"
   ]
  },
  {
   "cell_type": "code",
   "execution_count": 3,
   "metadata": {},
   "outputs": [],
   "source": [
    "tensor_1d = np.array([1.2,2,4.0,22.11])"
   ]
  },
  {
   "cell_type": "code",
   "execution_count": 5,
   "metadata": {},
   "outputs": [
    {
     "name": "stdout",
     "output_type": "stream",
     "text": [
      "[ 1.2   2.    4.   22.11]\n",
      "1.2\n",
      "2.0\n"
     ]
    }
   ],
   "source": [
    "print(tensor_1d)\n",
    "print(tensor_1d[0])\n",
    "print(tensor_1d[1])"
   ]
  },
  {
   "cell_type": "code",
   "execution_count": 7,
   "metadata": {},
   "outputs": [],
   "source": [
    "# Converter o arrya numpy em tensorflow\n",
    "tf_tensor_1d = tf.convert_to_tensor(tensor_1d, dtype=tf.float64)"
   ]
  },
  {
   "cell_type": "code",
   "execution_count": 8,
   "metadata": {},
   "outputs": [
    {
     "name": "stdout",
     "output_type": "stream",
     "text": [
      "tf.Tensor([ 1.2   2.    4.   22.11], shape=(4,), dtype=float64)\n",
      "tf.Tensor(1.2, shape=(), dtype=float64)\n",
      "tf.Tensor(2.0, shape=(), dtype=float64)\n"
     ]
    }
   ],
   "source": [
    "print(tf_tensor_1d)\n",
    "print(tf_tensor_1d[0])\n",
    "print(tf_tensor_1d[1])"
   ]
  },
  {
   "cell_type": "markdown",
   "metadata": {},
   "source": [
    "## Bidimensionais"
   ]
  },
  {
   "cell_type": "code",
   "execution_count": 9,
   "metadata": {},
   "outputs": [],
   "source": [
    "tensor_2d = np.array([(1,2,3,4),(4,5,6,7),(8,9,10,11),(12,13,14,15)])"
   ]
  },
  {
   "cell_type": "code",
   "execution_count": 14,
   "metadata": {},
   "outputs": [
    {
     "name": "stdout",
     "output_type": "stream",
     "text": [
      "[[ 1  2  3  4]\n",
      " [ 4  5  6  7]\n",
      " [ 8  9 10 11]\n",
      " [12 13 14 15]]\n",
      "10\n",
      "[[1 2]\n",
      " [4 5]]\n"
     ]
    }
   ],
   "source": [
    "print(tensor_2d)\n",
    "print(tensor_2d[2][2])\n",
    "print(tensor_2d[0:2,0:2])"
   ]
  },
  {
   "cell_type": "code",
   "execution_count": 15,
   "metadata": {},
   "outputs": [],
   "source": [
    "# Converter o arrya numpy em tensorflow\n",
    "tf_tensor_2d = tf.convert_to_tensor(tensor_2d, dtype=tf.float64)"
   ]
  },
  {
   "cell_type": "code",
   "execution_count": 16,
   "metadata": {},
   "outputs": [
    {
     "name": "stdout",
     "output_type": "stream",
     "text": [
      "tf.Tensor(\n",
      "[[ 1.  2.  3.  4.]\n",
      " [ 4.  5.  6.  7.]\n",
      " [ 8.  9. 10. 11.]\n",
      " [12. 13. 14. 15.]], shape=(4, 4), dtype=float64)\n",
      "tf.Tensor(10.0, shape=(), dtype=float64)\n",
      "tf.Tensor(\n",
      "[[1. 2.]\n",
      " [4. 5.]], shape=(2, 2), dtype=float64)\n"
     ]
    }
   ],
   "source": [
    "print(tf_tensor_2d)\n",
    "print(tf_tensor_2d[2][2])\n",
    "print(tf_tensor_2d[0:2,0:2])"
   ]
  },
  {
   "cell_type": "markdown",
   "metadata": {},
   "source": [
    "## Tridimensionais"
   ]
  },
  {
   "cell_type": "code",
   "execution_count": 17,
   "metadata": {},
   "outputs": [],
   "source": [
    "# Cria o array tridimensional\n",
    "# Dimensões: (panel, row, col)\n",
    "tensor_3d = np.array([[[1,2,3,4],[3,4,5,6]],[[5,6,7,8],[7,8,9,0]],[[1,3,5,7],[2,4,6,8]]]) "
   ]
  },
  {
   "cell_type": "code",
   "execution_count": 22,
   "metadata": {},
   "outputs": [
    {
     "name": "stdout",
     "output_type": "stream",
     "text": [
      "(3, 2, 4) \n",
      "------\n",
      "[[[1 2 3 4]\n",
      "  [3 4 5 6]]\n",
      "\n",
      " [[5 6 7 8]\n",
      "  [7 8 9 0]]\n",
      "\n",
      " [[1 3 5 7]\n",
      "  [2 4 6 8]]]\n"
     ]
    }
   ],
   "source": [
    "print(tensor_3d.shape, \"\\n------\")\n",
    "print(tensor_3d)"
   ]
  },
  {
   "cell_type": "code",
   "execution_count": 23,
   "metadata": {},
   "outputs": [
    {
     "name": "stdout",
     "output_type": "stream",
     "text": [
      "\n",
      "Elemento do Array Numpy 3-D no índice [0,0,0]: 1\n",
      "\n",
      "Elemento do Array Numpy 3-D no índice [0,1,1]: 4\n",
      "\n",
      "Elemento do Array Numpy 3-D no índice [:, 0, 0]: [1 5 1]\n"
     ]
    }
   ],
   "source": [
    "# Elementos do array 3-D\n",
    "print ('\\nElemento do Array Numpy 3-D no índice [0,0,0]:', tensor_3d[0,0,0])\n",
    "print ('\\nElemento do Array Numpy 3-D no índice [0,1,1]:', tensor_3d[0,1,1])\n",
    "print ('\\nElemento do Array Numpy 3-D no índice [:, 0, 0]:', tensor_3d[:, 0, 0])"
   ]
  },
  {
   "cell_type": "code",
   "execution_count": 24,
   "metadata": {},
   "outputs": [],
   "source": [
    "# Convertendo o array numpy para tensorflow\n",
    "tf_tensor_3d = tf.convert_to_tensor(tensor_3d, dtype = tf.float64)"
   ]
  },
  {
   "cell_type": "code",
   "execution_count": 25,
   "metadata": {},
   "outputs": [
    {
     "name": "stdout",
     "output_type": "stream",
     "text": [
      "(3, 2, 4) \n",
      "------\n",
      "tf.Tensor(\n",
      "[[[1. 2. 3. 4.]\n",
      "  [3. 4. 5. 6.]]\n",
      "\n",
      " [[5. 6. 7. 8.]\n",
      "  [7. 8. 9. 0.]]\n",
      "\n",
      " [[1. 3. 5. 7.]\n",
      "  [2. 4. 6. 8.]]], shape=(3, 2, 4), dtype=float64)\n"
     ]
    }
   ],
   "source": [
    "print(tf_tensor_3d.shape, \"\\n------\")\n",
    "print(tf_tensor_3d)"
   ]
  },
  {
   "cell_type": "code",
   "execution_count": 26,
   "metadata": {},
   "outputs": [
    {
     "name": "stdout",
     "output_type": "stream",
     "text": [
      "\n",
      "Elemento do Tensor 3-D no índice [0,0,0]: tf.Tensor(1.0, shape=(), dtype=float64)\n",
      "\n",
      "Elemento do Tensor 3-D no índice [0,1,1]: tf.Tensor(4.0, shape=(), dtype=float64)\n",
      "\n",
      "Elemento do Tensor 3-D no índice [:, 0, 0]: tf.Tensor([1. 5. 1.], shape=(3,), dtype=float64)\n"
     ]
    }
   ],
   "source": [
    "print ('\\nElemento do Tensor 3-D no índice [0,0,0]:', tf_tensor_3d[0,0,0])\n",
    "print ('\\nElemento do Tensor 3-D no índice [0,1,1]:', tf_tensor_3d[0,1,1])\n",
    "print ('\\nElemento do Tensor 3-D no índice [:, 0, 0]:', tf_tensor_3d[:, 0, 0])"
   ]
  },
  {
   "cell_type": "code",
   "execution_count": null,
   "metadata": {},
   "outputs": [],
   "source": []
  }
 ],
 "metadata": {
  "kernelspec": {
   "display_name": "Python 3",
   "language": "python",
   "name": "python3"
  },
  "language_info": {
   "codemirror_mode": {
    "name": "ipython",
    "version": 3
   },
   "file_extension": ".py",
   "mimetype": "text/x-python",
   "name": "python",
   "nbconvert_exporter": "python",
   "pygments_lexer": "ipython3",
   "version": "3.8.3"
  }
 },
 "nbformat": 4,
 "nbformat_minor": 4
}
