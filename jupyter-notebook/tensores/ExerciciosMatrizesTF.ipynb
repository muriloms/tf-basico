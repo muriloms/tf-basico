{
 "cells": [
  {
   "cell_type": "markdown",
   "metadata": {},
   "source": [
    "# Exercícios de Matrizes com TF\n",
    "Lista de exercícios sugeridos no curso Deep Learning Framework da formação Inteligência Artificial da Data Science Academy"
   ]
  },
  {
   "cell_type": "code",
   "execution_count": 1,
   "metadata": {},
   "outputs": [],
   "source": [
    "# Carregar pacotes\n",
    "import numpy as np\n",
    "import tensorflow as tf"
   ]
  },
  {
   "cell_type": "code",
   "execution_count": 3,
   "metadata": {},
   "outputs": [
    {
     "name": "stdout",
     "output_type": "stream",
     "text": [
      "tf.Tensor(\n",
      "[[1. 0. 0.]\n",
      " [0. 1. 0.]\n",
      " [0. 0. 1.]], shape=(3, 3), dtype=float32)\n"
     ]
    }
   ],
   "source": [
    "# Criar uma matriz identidade 3x3\n",
    "m_identidade = tf.eye(3, num_columns = 3)\n",
    "print(m_identidade)"
   ]
  },
  {
   "cell_type": "code",
   "execution_count": 13,
   "metadata": {},
   "outputs": [
    {
     "name": "stdout",
     "output_type": "stream",
     "text": [
      "tf.Tensor(\n",
      "[[0.3336924  0.00667806 0.09010551]\n",
      " [0.5521129  1.7177782  0.8119811 ]], shape=(2, 3), dtype=float32)\n"
     ]
    }
   ],
   "source": [
    "# Criar uma matriz 2x3 randomicamente normalizada\n",
    "m_rand_norm = tf.random.truncated_normal([2,3])\n",
    "print(m_rand_norm)"
   ]
  },
  {
   "cell_type": "code",
   "execution_count": 14,
   "metadata": {},
   "outputs": [
    {
     "name": "stdout",
     "output_type": "stream",
     "text": [
      "tf.Tensor(\n",
      "[[10. 10. 10.]\n",
      " [10. 10. 10.]], shape=(2, 3), dtype=float32)\n"
     ]
    }
   ],
   "source": [
    "# Criar uma matriz 2x3 com valores constantes\n",
    "m_const_val = tf.fill([2,3], 10.)\n",
    "print(m_const_val)"
   ]
  },
  {
   "cell_type": "code",
   "execution_count": 17,
   "metadata": {},
   "outputs": [
    {
     "name": "stdout",
     "output_type": "stream",
     "text": [
      "tf.Tensor(\n",
      "[[0.6888585  0.62952936]\n",
      " [0.41823566 0.47840643]\n",
      " [0.43536437 0.78705096]], shape=(3, 2), dtype=float32)\n"
     ]
    }
   ],
   "source": [
    "# Criar uma matriz 3x2 randomicamente uniforme\n",
    "m_rand_unif = tf.random.uniform([3,2])\n",
    "print(m_rand_unif)"
   ]
  },
  {
   "cell_type": "code",
   "execution_count": 9,
   "metadata": {},
   "outputs": [
    {
     "name": "stdout",
     "output_type": "stream",
     "text": [
      "[[1. 2. 3.]\n",
      " [4. 5. 6.]\n",
      " [7. 8. 9.]]\n",
      "tf.Tensor(\n",
      "[[1. 2. 3.]\n",
      " [4. 5. 6.]\n",
      " [7. 8. 9.]], shape=(3, 3), dtype=float64)\n"
     ]
    }
   ],
   "source": [
    "# Converter um array numpy 3x3 para um tensor\n",
    "array_np = np.array([[1.,2.,3.],[4.,5.,6.],[7.,8.,9.]])\n",
    "tensor_array = tf.convert_to_tensor(array_np)\n",
    "print(array_np)\n",
    "print(tensor_array)"
   ]
  },
  {
   "cell_type": "code",
   "execution_count": 15,
   "metadata": {},
   "outputs": [
    {
     "name": "stdout",
     "output_type": "stream",
     "text": [
      "tf.Tensor(\n",
      "[[10.333693 10.006678 10.090105]\n",
      " [10.552113 11.717778 10.811981]], shape=(2, 3), dtype=float32)\n"
     ]
    }
   ],
   "source": [
    "# Somar matrizes\n",
    "print(m_rand_norm + m_const_val)"
   ]
  },
  {
   "cell_type": "code",
   "execution_count": 16,
   "metadata": {},
   "outputs": [
    {
     "name": "stdout",
     "output_type": "stream",
     "text": [
      "tf.Tensor(\n",
      "[[0. 0. 0.]\n",
      " [0. 0. 0.]], shape=(2, 3), dtype=float32)\n"
     ]
    }
   ],
   "source": [
    "# Subtrair matrizes\n",
    "print(m_const_val - m_const_val)"
   ]
  },
  {
   "cell_type": "code",
   "execution_count": 18,
   "metadata": {},
   "outputs": [
    {
     "name": "stdout",
     "output_type": "stream",
     "text": [
      "tf.Tensor(\n",
      "[[0.27188858 0.28418162]\n",
      " [1.4522713  1.8084378 ]], shape=(2, 2), dtype=float32)\n"
     ]
    }
   ],
   "source": [
    "# Multiplicar matrizes\n",
    "print(tf.matmul(m_rand_norm, m_rand_unif))"
   ]
  },
  {
   "cell_type": "code",
   "execution_count": 19,
   "metadata": {},
   "outputs": [
    {
     "name": "stdout",
     "output_type": "stream",
     "text": [
      "tf.Tensor(\n",
      "[[0.6888585  0.41823566 0.43536437]\n",
      " [0.62952936 0.47840643 0.78705096]], shape=(2, 3), dtype=float32)\n"
     ]
    }
   ],
   "source": [
    "# Transposta da matriz rand_unif\n",
    "print(tf.transpose(m_rand_unif))"
   ]
  },
  {
   "cell_type": "code",
   "execution_count": 20,
   "metadata": {},
   "outputs": [
    {
     "name": "stdout",
     "output_type": "stream",
     "text": [
      "tf.Tensor(6.66133814775094e-16, shape=(), dtype=float64)\n"
     ]
    }
   ],
   "source": [
    "# Determinante da matriz tensor_array\n",
    "print(tf.linalg.det(tensor_array))"
   ]
  },
  {
   "cell_type": "code",
   "execution_count": 21,
   "metadata": {},
   "outputs": [
    {
     "name": "stdout",
     "output_type": "stream",
     "text": [
      "tf.Tensor(\n",
      "[[-4.50359963e+15  9.00719925e+15 -4.50359963e+15]\n",
      " [ 9.00719925e+15 -1.80143985e+16  9.00719925e+15]\n",
      " [-4.50359963e+15  9.00719925e+15 -4.50359963e+15]], shape=(3, 3), dtype=float64)\n"
     ]
    }
   ],
   "source": [
    "# Matrix Inversa da matriz tensor_array\n",
    "print(tf.linalg.inv(tensor_array))"
   ]
  },
  {
   "cell_type": "code",
   "execution_count": null,
   "metadata": {},
   "outputs": [],
   "source": []
  }
 ],
 "metadata": {
  "kernelspec": {
   "display_name": "Python 3",
   "language": "python",
   "name": "python3"
  },
  "language_info": {
   "codemirror_mode": {
    "name": "ipython",
    "version": 3
   },
   "file_extension": ".py",
   "mimetype": "text/x-python",
   "name": "python",
   "nbconvert_exporter": "python",
   "pygments_lexer": "ipython3",
   "version": "3.8.3"
  }
 },
 "nbformat": 4,
 "nbformat_minor": 4
}
