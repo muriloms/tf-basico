{
 "cells": [
  {
   "cell_type": "markdown",
   "metadata": {},
   "source": [
    "# Operações com Tensores"
   ]
  },
  {
   "cell_type": "code",
   "execution_count": 1,
   "metadata": {},
   "outputs": [],
   "source": [
    "import numpy as np\n",
    "import tensorflow as tf"
   ]
  },
  {
   "cell_type": "code",
   "execution_count": 4,
   "metadata": {},
   "outputs": [
    {
     "name": "stdout",
     "output_type": "stream",
     "text": [
      "\n",
      "--------Array 1--------\n",
      "[[1 2]\n",
      " [3 4]]\n",
      "\n",
      "--------Array 2--------\n",
      "[[5 6]\n",
      " [7 8]]\n",
      "\n",
      "--------Array 3--------\n",
      "[[2. 7. 2.]\n",
      " [1. 4. 2.]\n",
      " [9. 0. 2.]]\n",
      "\n",
      "--------Array 4--------\n",
      "[[[1 2 3 4]\n",
      "  [3 4 5 6]]\n",
      "\n",
      " [[5 6 7 8]\n",
      "  [7 8 9 0]]\n",
      "\n",
      " [[1 3 5 7]\n",
      "  [2 4 6 8]]]\n"
     ]
    }
   ],
   "source": [
    "array1 = np.array([(1,2),(3,4)], dtype = 'int32') \n",
    "array2 = np.array([(5,6),(7,8)], dtype = 'int32')\n",
    "array3 = np.array([(2,7,2),(1,4,2),(9,0,2)], dtype = 'float32') \n",
    "array4 = np.array([[[1,2,3,4],[3,4,5,6]],[[5,6,7,8],[7,8,9,0]],[[1,3,5,7],[2,4,6,8]]]) \n",
    "\n",
    "print (\"\\n--------Array 1--------\") \n",
    "print (array1)\n",
    "print (\"\\n--------Array 2--------\") \n",
    "print (array2)\n",
    "print (\"\\n--------Array 3--------\") \n",
    "print (array3)\n",
    "print (\"\\n--------Array 4--------\") \n",
    "print (array4)"
   ]
  },
  {
   "cell_type": "code",
   "execution_count": 5,
   "metadata": {},
   "outputs": [
    {
     "name": "stdout",
     "output_type": "stream",
     "text": [
      "tf.Tensor(\n",
      "[[19 22]\n",
      " [43 50]], shape=(2, 2), dtype=int32)\n"
     ]
    }
   ],
   "source": [
    "# Multiplicação das matrizes 1 e 2\n",
    "matrix_product = tf.matmul(array1, array2)\n",
    "print (matrix_product) "
   ]
  },
  {
   "cell_type": "code",
   "execution_count": 6,
   "metadata": {},
   "outputs": [
    {
     "name": "stdout",
     "output_type": "stream",
     "text": [
      "tf.Tensor(\n",
      "[[ 6  8]\n",
      " [10 12]], shape=(2, 2), dtype=int32)\n"
     ]
    }
   ],
   "source": [
    "# Soma das matrizes 1 e 2\n",
    "matrix_sum = tf.add(array1, array2)\n",
    "print(matrix_sum)"
   ]
  },
  {
   "cell_type": "code",
   "execution_count": 10,
   "metadata": {},
   "outputs": [
    {
     "name": "stdout",
     "output_type": "stream",
     "text": [
      "tf.Tensor(55.999992, shape=(), dtype=float32)\n"
     ]
    }
   ],
   "source": [
    "# Cálculo do determinate da matriz 3\n",
    "matrix_det = tf.linalg.det(array3)\n",
    "print(matrix_det)"
   ]
  },
  {
   "cell_type": "code",
   "execution_count": 11,
   "metadata": {},
   "outputs": [
    {
     "name": "stdout",
     "output_type": "stream",
     "text": [
      "tf.Tensor(\n",
      "[[[1.         1.41421356 1.73205081 2.        ]\n",
      "  [1.73205081 2.         2.23606798 2.44948974]]\n",
      "\n",
      " [[2.23606798 2.44948974 2.64575131 2.82842712]\n",
      "  [2.64575131 2.82842712 3.         0.        ]]\n",
      "\n",
      " [[1.         1.73205081 2.23606798 2.64575131]\n",
      "  [1.41421356 2.         2.44948974 2.82842712]]], shape=(3, 2, 4), dtype=float64)\n"
     ]
    }
   ],
   "source": [
    "# Calculando a raiz quadrada dos elementos do array 4\n",
    "tf_tensor_3d = tf.convert_to_tensor(array4, dtype = tf.float64)\n",
    "matrix_sqrt = tf.math.sqrt(tf_tensor_3d)\n",
    "print(matrix_sqrt)"
   ]
  },
  {
   "cell_type": "code",
   "execution_count": null,
   "metadata": {},
   "outputs": [],
   "source": []
  }
 ],
 "metadata": {
  "kernelspec": {
   "display_name": "Python 3",
   "language": "python",
   "name": "python3"
  },
  "language_info": {
   "codemirror_mode": {
    "name": "ipython",
    "version": 3
   },
   "file_extension": ".py",
   "mimetype": "text/x-python",
   "name": "python",
   "nbconvert_exporter": "python",
   "pygments_lexer": "ipython3",
   "version": "3.8.3"
  }
 },
 "nbformat": 4,
 "nbformat_minor": 4
}
