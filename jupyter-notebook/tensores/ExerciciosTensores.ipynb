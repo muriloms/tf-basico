{
 "cells": [
  {
   "cell_type": "markdown",
   "metadata": {},
   "source": [
    "# Exercícios com Tensores no TF\n",
    "Lista de exercícios do curos Deep Learning Framework da Formação Inteligência Artificial da Data Sciecen Academy"
   ]
  },
  {
   "cell_type": "code",
   "execution_count": 2,
   "metadata": {},
   "outputs": [],
   "source": [
    "# Carregar pacotes\n",
    "import tensorflow as tf"
   ]
  },
  {
   "cell_type": "code",
   "execution_count": 3,
   "metadata": {},
   "outputs": [
    {
     "name": "stdout",
     "output_type": "stream",
     "text": [
      "tf.Tensor([[0. 0. 0. 0. 0. 0. 0. 0. 0. 0. 0. 0. 0. 0. 0. 0. 0. 0. 0. 0.]], shape=(1, 20), dtype=float32)\n"
     ]
    }
   ],
   "source": [
    "# Cria um tensor preenchido por 20 zeros, dimensão 1x20\n",
    "tensor = tf.zeros([1,20])\n",
    "print(tensor)"
   ]
  },
  {
   "cell_type": "code",
   "execution_count": 10,
   "metadata": {},
   "outputs": [
    {
     "name": "stdout",
     "output_type": "stream",
     "text": [
      "<tf.Variable 'Variable:0' shape=(1, 20) dtype=float32, numpy=\n",
      "array([[0., 0., 0., 0., 0., 0., 0., 0., 0., 0., 0., 0., 0., 0., 0., 0.,\n",
      "        0., 0., 0., 0.]], dtype=float32)>\n"
     ]
    }
   ],
   "source": [
    "# Declarar uma variável que recebe um tensor preenchido por 20 zeros\n",
    "var_tensor = tf.Variable(tf.zeros([1,20]), dtype=tf.float32)\n",
    "print(var_tensor)"
   ]
  },
  {
   "cell_type": "code",
   "execution_count": 11,
   "metadata": {},
   "outputs": [
    {
     "name": "stdout",
     "output_type": "stream",
     "text": [
      "<tf.Variable 'Variable:0' shape=(4, 8) dtype=float32, numpy=\n",
      "array([[0., 0., 0., 0., 0., 0., 0., 0.],\n",
      "       [0., 0., 0., 0., 0., 0., 0., 0.],\n",
      "       [0., 0., 0., 0., 0., 0., 0., 0.],\n",
      "       [0., 0., 0., 0., 0., 0., 0., 0.]], dtype=float32)>\n"
     ]
    }
   ],
   "source": [
    "# Criar Tensor inicializado com zeros usando como dimensões as variáveis python\n",
    "row_dim = 4\n",
    "col_dim = 8\n",
    "\n",
    "tensor_zero = tf.Variable(tf.zeros([row_dim, col_dim]))\n",
    "print(tensor_zero)"
   ]
  },
  {
   "cell_type": "code",
   "execution_count": 12,
   "metadata": {},
   "outputs": [
    {
     "name": "stdout",
     "output_type": "stream",
     "text": [
      "<tf.Variable 'Variable:0' shape=(2, 4) dtype=float32, numpy=\n",
      "array([[1., 1., 1., 1.],\n",
      "       [1., 1., 1., 1.]], dtype=float32)>\n"
     ]
    }
   ],
   "source": [
    "# Criar Tensor inicializado com 1 usando como dimensões as variáveis python\n",
    "row_dim = 2\n",
    "col_dim = 4\n",
    "\n",
    "tensor_one = tf.Variable(tf.ones([row_dim, col_dim]))\n",
    "print(tensor_one)"
   ]
  },
  {
   "cell_type": "code",
   "execution_count": 14,
   "metadata": {},
   "outputs": [
    {
     "name": "stdout",
     "output_type": "stream",
     "text": [
      "<tf.Variable 'Variable:0' shape=(10, 2) dtype=int32, numpy=\n",
      "array([[10, 10],\n",
      "       [10, 10],\n",
      "       [10, 10],\n",
      "       [10, 10],\n",
      "       [10, 10],\n",
      "       [10, 10],\n",
      "       [10, 10],\n",
      "       [10, 10],\n",
      "       [10, 10],\n",
      "       [10, 10]], dtype=int32)>\n"
     ]
    }
   ],
   "source": [
    "# Tensor preenchido com valores constantes (variáveis Python)\n",
    "row_dim = 10\n",
    "col_dim = 2\n",
    "\n",
    "tensor_fill = tf.Variable(tf.fill([row_dim, col_dim], 10))\n",
    "print(tensor_fill)"
   ]
  },
  {
   "cell_type": "code",
   "execution_count": 15,
   "metadata": {},
   "outputs": [
    {
     "name": "stdout",
     "output_type": "stream",
     "text": [
      "<tf.Variable 'Variable:0' shape=(5,) dtype=int32, numpy=array([1, 2, 3, 4, 5], dtype=int32)>\n"
     ]
    }
   ],
   "source": [
    "# Cria um tensor a partir de uma lista de valores constantes\n",
    "tensor_const = tf.Variable(tf.constant([1,2,3,4,5]))\n",
    "print(tensor_const)"
   ]
  },
  {
   "cell_type": "code",
   "execution_count": 16,
   "metadata": {},
   "outputs": [
    {
     "name": "stdout",
     "output_type": "stream",
     "text": [
      "<tf.Variable 'Variable:0' shape=(2, 2) dtype=int32, numpy=\n",
      "array([[10, 10],\n",
      "       [10, 10]], dtype=int32)>\n"
     ]
    }
   ],
   "source": [
    "# Cria um tensor a partir de uma lista de valores constantes com variáveis python\n",
    "row_dim = 2\n",
    "col_dim = 2\n",
    "\n",
    "tensor_const_fill = tf.Variable(tf.constant(10, shape = [row_dim,col_dim]))\n",
    "print(tensor_const_fill)"
   ]
  },
  {
   "cell_type": "code",
   "execution_count": 17,
   "metadata": {},
   "outputs": [
    {
     "name": "stdout",
     "output_type": "stream",
     "text": [
      "<tf.Variable 'Variable:0' shape=(3,) dtype=float32, numpy=array([0. , 0.5, 1. ], dtype=float32)>\n"
     ]
    }
   ],
   "source": [
    "# Gerando uma sequência de valores lineares com a função tf.linspace, \n",
    "#começando por 0.0, terminando em 1.0, com 3 elementos\n",
    "tensor_linear = tf.Variable(tf.linspace(start = 0.0, stop = 1.0, num = 3))\n",
    "print(tensor_linear)"
   ]
  },
  {
   "cell_type": "code",
   "execution_count": 18,
   "metadata": {},
   "outputs": [
    {
     "name": "stdout",
     "output_type": "stream",
     "text": [
      "<tf.Variable 'Variable:0' shape=(3,) dtype=int32, numpy=array([ 6,  9, 12], dtype=int32)>\n"
     ]
    }
   ],
   "source": [
    "# Gerando uma sequência de valores com a função tf.range, \n",
    "#começando por 6, limite de 15 e saltando de 3 em 3\n",
    "tensor_sequence = tf.Variable(tf.range(start = 6, limit = 15, delta = 3))\n",
    "print(tensor_sequence)"
   ]
  },
  {
   "cell_type": "code",
   "execution_count": null,
   "metadata": {},
   "outputs": [],
   "source": []
  }
 ],
 "metadata": {
  "kernelspec": {
   "display_name": "Python 3",
   "language": "python",
   "name": "python3"
  },
  "language_info": {
   "codemirror_mode": {
    "name": "ipython",
    "version": 3
   },
   "file_extension": ".py",
   "mimetype": "text/x-python",
   "name": "python",
   "nbconvert_exporter": "python",
   "pygments_lexer": "ipython3",
   "version": "3.8.3"
  }
 },
 "nbformat": 4,
 "nbformat_minor": 4
}
