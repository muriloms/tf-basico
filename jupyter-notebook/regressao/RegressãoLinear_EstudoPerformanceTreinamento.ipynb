{
 "cells": [
  {
   "cell_type": "markdown",
   "metadata": {},
   "source": [
    "# Estudo da performance do treinamento utilizando Regressão Linear e TensorFlow"
   ]
  },
  {
   "cell_type": "markdown",
   "metadata": {},
   "source": [
    "Um modelo de regressão linear pode ser definido como y = mx + c, onde m é a inclinação da reta e c é o intercepto. \n",
    "\n",
    "Em aprendizado profundo, os parâmetros do modelo, m e c, podem ser chamados de peso e viés."
   ]
  },
  {
   "cell_type": "code",
   "execution_count": 1,
   "metadata": {},
   "outputs": [],
   "source": [
    "# Carregar pacotes\n",
    "import numpy as np\n",
    "import matplotlib.pyplot as plt\n",
    "import tensorflow as tf"
   ]
  },
  {
   "cell_type": "markdown",
   "metadata": {},
   "source": [
    " O modelo abaixo possui atributos W e b que representam a inclinação e a interceptação, respectivamente. No código, o valor inicial foi definido, entretanto eles são inicializados aleatoriamente. \n",
    " \n",
    " No TensorFlow, tudo o que um modelo aprende é definido usando tf.Variable. Isso significa que, ao longo da execução, os valores dessas variáveis serão alterados, ou seja, são mutáveis.\n",
    "\n",
    "Em seguida, definimos a operação do nosso modelo na função __call__, que aceita uma entrada x. Semelhante à nossa equação acima, multiplicamos a entrada pelo peso W e adicionamos o viés b. "
   ]
  },
  {
   "cell_type": "code",
   "execution_count": 2,
   "metadata": {},
   "outputs": [],
   "source": [
    "# Modelo\n",
    "\n",
    "class reg_model:\n",
    "    def __init__(self):\n",
    "        self.W = tf.Variable(16.0)\n",
    "        self.b = tf.Variable(10.0)\n",
    "    \n",
    "    def __call__(self,x):\n",
    "        return self.W * x + self.b\n",
    "\n",
    "# __call__ é uma função especial no Python que nos permite tratar um objeto como uma função"
   ]
  },
  {
   "cell_type": "code",
   "execution_count": 3,
   "metadata": {},
   "outputs": [
    {
     "data": {
      "text/plain": [
       "<tf.Tensor: shape=(), dtype=float32, numpy=330.0>"
      ]
     },
     "execution_count": 3,
     "metadata": {},
     "output_type": "execute_result"
    }
   ],
   "source": [
    "# Instanciar o modelo \n",
    "modelo = reg_model()\n",
    "modelo(20)"
   ]
  },
  {
   "cell_type": "code",
   "execution_count": 4,
   "metadata": {},
   "outputs": [],
   "source": [
    "# Gerar dados\n",
    "# Gerar os dados de modo que a inclinação da linha seja 3.0 e a interceptação seja 0.5\n",
    "\n",
    "# Definindo valores \"reais\" para os pesos\n",
    "TRUE_W = 3.0 # slope\n",
    "TRUE_b = 0.5 # intercepto\n",
    "\n",
    "# Número de exemplos\n",
    "NUM_EXEMPLOS = 1000\n",
    "\n",
    "# Gera valores para x\n",
    "X = tf.random.normal(shape = (NUM_EXEMPLOS,))\n",
    "\n",
    "# Gera ruído\n",
    "noise = tf.random.normal(shape = (NUM_EXEMPLOS,))\n",
    "\n",
    "# Gera o valor \"verdadeiro\" de y\n",
    "y = X * TRUE_W + TRUE_b + noise"
   ]
  },
  {
   "cell_type": "code",
   "execution_count": 5,
   "metadata": {},
   "outputs": [
    {
     "data": {
      "image/png": "[encoded data removed]",
      "text/plain": [
       "<Figure size 432x288 with 1 Axes>"
      ]
     },
     "metadata": {
      "needs_background": "light"
     },
     "output_type": "display_data"
    }
   ],
   "source": [
    "# Gerar plot para análise \n",
    "# Plot do valor \"real\"\n",
    "plt.scatter(X, y, label = \"Valor Real\")\n",
    "\n",
    "# Plot do valor \"previsto\" pelo nosso modelo\n",
    "plt.scatter(X, modelo(X), label = \"Valor Previsto\")\n",
    "\n",
    "plt.legend()\n",
    "plt.show()"
   ]
  },
  {
   "cell_type": "markdown",
   "metadata": {},
   "source": [
    "# Aplicar Função de Custo"
   ]
  },
  {
   "cell_type": "code",
   "execution_count": 6,
   "metadata": {},
   "outputs": [],
   "source": [
    "# Função de custo - calcular erro\n",
    "def loss(y, y_pred):\n",
    "    return tf.reduce_mean(tf.square(y - y_pred))"
   ]
  },
  {
   "cell_type": "code",
   "execution_count": 7,
   "metadata": {},
   "outputs": [],
   "source": [
    "# Função para executar o treinamento\n",
    "def train(modelo, X, y, lr = 0.01):\n",
    "    with tf.GradientTape() as t:\n",
    "        current_loss = loss(y, modelo(X))\n",
    "\n",
    "    derivada_W, derivada_b = t.gradient(current_loss, [modelo.W, modelo.b])\n",
    "    modelo.W.assign_sub(lr * derivada_W)\n",
    "    modelo.b.assign_sub(lr * derivada_b)"
   ]
  },
  {
   "cell_type": "code",
   "execution_count": 12,
   "metadata": {},
   "outputs": [],
   "source": [
    "# Definir modelo e parâmetros\n",
    "modelo = reg_model()\n",
    "\n",
    "# listas vazias para w e b\n",
    "Ws , bs = [] , []\n",
    "\n",
    "# n de épocas - vezes que o modelo passa pelos dados\n",
    "epochs = 20"
   ]
  },
  {
   "cell_type": "code",
   "execution_count": 13,
   "metadata": {},
   "outputs": [
    {
     "name": "stdout",
     "output_type": "stream",
     "text": [
      "Epoch 0: Loss (Erro): 243.55459594726562\n",
      "Epoch 1: Loss (Erro): 161.4530792236328\n",
      "Epoch 2: Loss (Erro): 107.14286041259766\n",
      "Epoch 3: Loss (Erro): 71.21527862548828\n",
      "Epoch 4: Loss (Erro): 47.44748306274414\n",
      "Epoch 5: Loss (Erro): 31.723434448242188\n",
      "Epoch 6: Loss (Erro): 21.320573806762695\n",
      "Epoch 7: Loss (Erro): 14.437950134277344\n",
      "Epoch 8: Loss (Erro): 9.88422966003418\n",
      "Epoch 9: Loss (Erro): 6.871288299560547\n",
      "Epoch 10: Loss (Erro): 4.877747058868408\n",
      "Epoch 11: Loss (Erro): 3.5586743354797363\n",
      "Epoch 12: Loss (Erro): 2.6858596801757812\n",
      "Epoch 13: Loss (Erro): 2.1083152294158936\n",
      "Epoch 14: Loss (Erro): 1.7261466979980469\n",
      "Epoch 15: Loss (Erro): 1.4732557535171509\n",
      "Epoch 16: Loss (Erro): 1.3059086799621582\n",
      "Epoch 17: Loss (Erro): 1.1951669454574585\n",
      "Epoch 18: Loss (Erro): 1.1218827962875366\n",
      "Epoch 19: Loss (Erro): 1.0733858346939087\n"
     ]
    }
   ],
   "source": [
    "# Treinamento\n",
    "\n",
    "for epoch in range(epochs):\n",
    "    Ws.append(modelo.W.numpy()) \n",
    "    bs.append(modelo.b.numpy())\n",
    "\n",
    "    current_loss = loss(y, modelo(X))\n",
    "\n",
    "    train(modelo, X, y, lr = 0.1)\n",
    "    \n",
    "    print(f\"Epoch {epoch}: Loss (Erro): {current_loss.numpy()}\")"
   ]
  },
  {
   "cell_type": "code",
   "execution_count": 14,
   "metadata": {},
   "outputs": [
    {
     "data": {
      "image/png": "[encoded data removed]",
      "text/plain": [
       "<Figure size 432x288 with 1 Axes>"
      ]
     },
     "metadata": {
      "needs_background": "light"
     },
     "output_type": "display_data"
    },
    {
     "data": {
      "image/png": "[encoded data removed]",
      "text/plain": [
       "<Figure size 432x288 with 1 Axes>"
      ]
     },
     "metadata": {
      "needs_background": "light"
     },
     "output_type": "display_data"
    }
   ],
   "source": [
    "# Plot\n",
    "plt.plot(range(epochs), Ws, 'r', range(epochs), bs, 'b')\n",
    "plt.plot([TRUE_W] * epochs, 'r--', [TRUE_b] * epochs, 'b--')\n",
    "plt.legend(['W Previsto', 'b Previsto', 'W Real', 'b Real'])\n",
    "plt.show()\n",
    "\n",
    "# Plot do valor \"real\"\n",
    "plt.scatter(X, y, label = \"Valor Real\")\n",
    "\n",
    "# Plot do valor \"previsto\" pelo nosso modelo\n",
    "plt.scatter(X, modelo(X), label = \"Valor Previsto\")\n",
    "\n",
    "plt.legend()\n",
    "plt.show()"
   ]
  },
  {
   "cell_type": "code",
   "execution_count": null,
   "metadata": {},
   "outputs": [],
   "source": []
  }
 ],
 "metadata": {
  "kernelspec": {
   "display_name": "Python 3",
   "language": "python",
   "name": "python3"
  },
  "language_info": {
   "codemirror_mode": {
    "name": "ipython",
    "version": 3
   },
   "file_extension": ".py",
   "mimetype": "text/x-python",
   "name": "python",
   "nbconvert_exporter": "python",
   "pygments_lexer": "ipython3",
   "version": "3.8.3"
  }
 },
 "nbformat": 4,
 "nbformat_minor": 4
}
