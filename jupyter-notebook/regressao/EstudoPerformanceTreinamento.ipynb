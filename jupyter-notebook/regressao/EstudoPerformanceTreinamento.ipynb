{
 "cells": [
  {
   "cell_type": "markdown",
   "metadata": {},
   "source": [
    "# Estudo da performance do treinamento utilizando Regressão Linear e TensorFlow"
   ]
  },
  {
   "cell_type": "markdown",
   "metadata": {},
   "source": [
    "Um modelo de regressão linear pode ser definido como y = mx + c, onde m é a inclinação da reta e c é o intercepto. \n",
    "\n",
    "Em aprendizado profundo, os parâmetros do modelo, m e c, podem ser chamados de peso e viés."
   ]
  },
  {
   "cell_type": "code",
   "execution_count": 1,
   "metadata": {},
   "outputs": [],
   "source": [
    "# Carregar pacotes\n",
    "import numpy as np\n",
    "import matplotlib.pyplot as plt\n",
    "import tensorflow as tf"
   ]
  },
  {
   "cell_type": "markdown",
   "metadata": {},
   "source": [
    " O modelo abaixo possui atributos W e b que representam a inclinação e a interceptação, respectivamente. No código, o valor inicial foi definido, entretanto eles são inicializados aleatoriamente. \n",
    " \n",
    " No TensorFlow, tudo o que um modelo aprende é definido usando tf.Variable. Isso significa que, ao longo da execução, os valores dessas variáveis serão alterados, ou seja, são mutáveis.\n",
    "\n",
    "Em seguida, definimos a operação do nosso modelo na função __call__, que aceita uma entrada x. Semelhante à nossa equação acima, multiplicamos a entrada pelo peso W e adicionamos o viés b. "
   ]
  },
  {
   "cell_type": "code",
   "execution_count": 11,
   "metadata": {},
   "outputs": [],
   "source": [
    "# Modelo\n",
    "\n",
    "class reg_model:\n",
    "    def __init__(self):\n",
    "        self.W = tf.Variable(16.0)\n",
    "        self.b = tf.Variable(10.0)\n",
    "    \n",
    "    def __call__(self,x):\n",
    "        return self.W * x + self.b\n",
    "\n",
    "# __call__ é uma função especial no Python que nos permite tratar um objeto como uma função"
   ]
  },
  {
   "cell_type": "code",
   "execution_count": 12,
   "metadata": {},
   "outputs": [
    {
     "data": {
      "text/plain": [
       "<tf.Tensor: shape=(), dtype=float32, numpy=330.0>"
      ]
     },
     "execution_count": 12,
     "metadata": {},
     "output_type": "execute_result"
    }
   ],
   "source": [
    "# Instanciar o modelo \n",
    "modelo = reg_model()\n",
    "modelo(20)"
   ]
  },
  {
   "cell_type": "code",
   "execution_count": 13,
   "metadata": {},
   "outputs": [],
   "source": [
    "# Gerar dados\n",
    "# Gerar os dados de modo que a inclinação da linha seja 3.0 e a interceptação seja 0.5\n",
    "\n",
    "# Definindo valores \"reais\" para os pesos\n",
    "TRUE_W = 3.0 # slope\n",
    "TRUE_b = 0.5 # intercepto\n",
    "\n",
    "# Número de exemplos\n",
    "NUM_EXEMPLOS = 1000\n",
    "\n",
    "# Gera valores para x\n",
    "X = tf.random.normal(shape = (NUM_EXEMPLOS,))\n",
    "\n",
    "# Gera ruído\n",
    "noise = tf.random.normal(shape = (NUM_EXEMPLOS,))\n",
    "\n",
    "# Gera o valor \"verdadeiro\" de y\n",
    "y = X * TRUE_W + TRUE_b + noise"
   ]
  },
  {
   "cell_type": "code",
   "execution_count": 14,
   "metadata": {},
   "outputs": [
    {
     "data": {
      "image/png": "[encoded data removed]",
      "text/plain": [
       "<Figure size 432x288 with 1 Axes>"
      ]
     },
     "metadata": {
      "needs_background": "light"
     },
     "output_type": "display_data"
    }
   ],
   "source": [
    "# Gerar plot para análise \n",
    "# Plot do valor \"real\"\n",
    "plt.scatter(X, y, label = \"Valor Real\")\n",
    "\n",
    "# Plot do valor \"previsto\" pelo nosso modelo\n",
    "plt.scatter(X, modelo(X), label = \"Valor Previsto\")\n",
    "\n",
    "plt.legend()\n",
    "plt.show()"
   ]
  },
  {
   "cell_type": "markdown",
   "metadata": {},
   "source": [
    "# Aplicar Função de Custo"
   ]
  },
  {
   "cell_type": "code",
   "execution_count": null,
   "metadata": {},
   "outputs": [],
   "source": []
  }
 ],
 "metadata": {
  "kernelspec": {
   "display_name": "Python 3",
   "language": "python",
   "name": "python3"
  },
  "language_info": {
   "codemirror_mode": {
    "name": "ipython",
    "version": 3
   },
   "file_extension": ".py",
   "mimetype": "text/x-python",
   "name": "python",
   "nbconvert_exporter": "python",
   "pygments_lexer": "ipython3",
   "version": "3.8.3"
  }
 },
 "nbformat": 4,
 "nbformat_minor": 4
}
